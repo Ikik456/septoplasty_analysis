{
 "cells": [
  {
   "cell_type": "code",
   "execution_count": 1,
   "id": "50a6ec6c",
   "metadata": {},
   "outputs": [],
   "source": [
    "import pandas as pd"
   ]
  },
  {
   "cell_type": "code",
   "execution_count": 6,
   "id": "17adae67",
   "metadata": {},
   "outputs": [],
   "source": [
    "df=pd.read_csv(\"./septoplasty_question.csv\")"
   ]
  },
  {
   "cell_type": "code",
   "execution_count": 10,
   "id": "df942e6f",
   "metadata": {},
   "outputs": [
    {
     "data": {
      "text/html": [
       "<div>\n",
       "<style scoped>\n",
       "    .dataframe tbody tr th:only-of-type {\n",
       "        vertical-align: middle;\n",
       "    }\n",
       "\n",
       "    .dataframe tbody tr th {\n",
       "        vertical-align: top;\n",
       "    }\n",
       "\n",
       "    .dataframe thead th {\n",
       "        text-align: right;\n",
       "    }\n",
       "</style>\n",
       "<table border=\"1\" class=\"dataframe\">\n",
       "  <thead>\n",
       "    <tr style=\"text-align: right;\">\n",
       "      <th></th>\n",
       "      <th>title</th>\n",
       "      <th>body</th>\n",
       "    </tr>\n",
       "  </thead>\n",
       "  <tbody>\n",
       "    <tr>\n",
       "      <th>0</th>\n",
       "      <td>Can a septoplasty fix my upper lip asymmetry?</td>\n",
       "      <td>Can a septoplasty fix upper lip asymmetry? The...</td>\n",
       "    </tr>\n",
       "    <tr>\n",
       "      <th>1</th>\n",
       "      <td>3 years post op &amp; have tip redness now &amp; then ...</td>\n",
       "      <td>I had a septoplasty 3 years ago, it was done u...</td>\n",
       "    </tr>\n",
       "    <tr>\n",
       "      <th>2</th>\n",
       "      <td>16 months post-op. 40-50% of my middle turbina...</td>\n",
       "      <td>March 10th of 2021 I had Septoplasty with Turb...</td>\n",
       "    </tr>\n",
       "    <tr>\n",
       "      <th>3</th>\n",
       "      <td>Can my nose be made smaller at the tip, bump l...</td>\n",
       "      <td>I have a very weird congenitally crooked nose....</td>\n",
       "    </tr>\n",
       "    <tr>\n",
       "      <th>4</th>\n",
       "      <td>Feels like 1 side of nose is more blocked, do ...</td>\n",
       "      <td>i have noticed asymmetry in my nose from the f...</td>\n",
       "    </tr>\n",
       "    <tr>\n",
       "      <th>...</th>\n",
       "      <td>...</td>\n",
       "      <td>...</td>\n",
       "    </tr>\n",
       "    <tr>\n",
       "      <th>2623</th>\n",
       "      <td>Septoplasty to Include Fixing Nose Hump?</td>\n",
       "      <td>I may have to have a Septoplasty but I also ha...</td>\n",
       "    </tr>\n",
       "    <tr>\n",
       "      <th>2624</th>\n",
       "      <td>Waiting After Pregnancy to Have Deviated Septu...</td>\n",
       "      <td>I had a miscarriage around 8 weeks ago and we ...</td>\n",
       "    </tr>\n",
       "    <tr>\n",
       "      <th>2625</th>\n",
       "      <td>Okay to Have Third Surgery After Septorhinopla...</td>\n",
       "      <td>I had a Septorhinoplasty to correct a broken n...</td>\n",
       "    </tr>\n",
       "    <tr>\n",
       "      <th>2626</th>\n",
       "      <td>Fat Nose and Deviated Septum Still Present Aft...</td>\n",
       "      <td>I broke my nose about four years ago 8 months ...</td>\n",
       "    </tr>\n",
       "    <tr>\n",
       "      <th>2627</th>\n",
       "      <td>Indentation from Pulling out Suture After Sept...</td>\n",
       "      <td>I had a Septoplasty and Rhinoplasty 12 days ag...</td>\n",
       "    </tr>\n",
       "  </tbody>\n",
       "</table>\n",
       "<p>2628 rows × 2 columns</p>\n",
       "</div>"
      ],
      "text/plain": [
       "                                                  title  \\\n",
       "0         Can a septoplasty fix my upper lip asymmetry?   \n",
       "1     3 years post op & have tip redness now & then ...   \n",
       "2     16 months post-op. 40-50% of my middle turbina...   \n",
       "3     Can my nose be made smaller at the tip, bump l...   \n",
       "4     Feels like 1 side of nose is more blocked, do ...   \n",
       "...                                                 ...   \n",
       "2623           Septoplasty to Include Fixing Nose Hump?   \n",
       "2624  Waiting After Pregnancy to Have Deviated Septu...   \n",
       "2625  Okay to Have Third Surgery After Septorhinopla...   \n",
       "2626  Fat Nose and Deviated Septum Still Present Aft...   \n",
       "2627  Indentation from Pulling out Suture After Sept...   \n",
       "\n",
       "                                                   body  \n",
       "0     Can a septoplasty fix upper lip asymmetry? The...  \n",
       "1     I had a septoplasty 3 years ago, it was done u...  \n",
       "2     March 10th of 2021 I had Septoplasty with Turb...  \n",
       "3     I have a very weird congenitally crooked nose....  \n",
       "4     i have noticed asymmetry in my nose from the f...  \n",
       "...                                                 ...  \n",
       "2623  I may have to have a Septoplasty but I also ha...  \n",
       "2624  I had a miscarriage around 8 weeks ago and we ...  \n",
       "2625  I had a Septorhinoplasty to correct a broken n...  \n",
       "2626  I broke my nose about four years ago 8 months ...  \n",
       "2627  I had a Septoplasty and Rhinoplasty 12 days ag...  \n",
       "\n",
       "[2628 rows x 2 columns]"
      ]
     },
     "execution_count": 10,
     "metadata": {},
     "output_type": "execute_result"
    }
   ],
   "source": [
    "df[['title','body'\n",
    "]]"
   ]
  },
  {
   "cell_type": "code",
   "execution_count": 11,
   "id": "eff80927",
   "metadata": {},
   "outputs": [],
   "source": [
    "import sklearn"
   ]
  },
  {
   "cell_type": "code",
   "execution_count": 13,
   "id": "037dd7f5",
   "metadata": {},
   "outputs": [
    {
     "data": {
      "text/plain": [
       "array(['Can a septoplasty fix upper lip asymmetry? The septum is deviated, the tip is off to the side, and the nostrils are at different heights. Therefore, the upper lip is also asymmetric, and its crooked/tilted so that the lip line is diagonal. So, will a septoplasty fix this issue, or is more needed to permanently fix the issue at hand?',\n",
       "       'I had a septoplasty 3 years ago, it was done using my own cartilage from the nose and it was placed on the tip of the nose. And I have been seeing redness every now and then, but it doesnt cause any pain nor breathing problem, it just gets red and it comes and go. Will it be related to the surgery? I have seen a surgeon here but I was told the nose was fine and was given antibiotics. It improved but it comes and go.',\n",
       "       \"March 10th of 2021 I had Septoplasty with Turbinate Reduction of my middle turbinate's (he removed 40-50% each) and small reduction of inferior (less than 10%). I have seen 2 doctors since the surgery both say I would not have removed that much of the middle turbinate but you do not have Empty Nose Syndrome. But I still feel way too much cold air that hits my throat on one side and other is still deviated. I am now dizzy alot and have no idea what do next, it ruined my life !\",\n",
       "       ...,\n",
       "       \"I had a Septorhinoplasty to correct a broken nose. The surgeon should have made my nose thinner, but I think it looks the same and it's been over a year.  I had a Rhinoplasty after a year following that to remove the hump and refine the tip. It's been nearly 12 weeks. Now, my columella is droopy, the tip is drooping down (making it look long), the nose looks wider, and the tip looks huge. And he's left me with a scar that is very, very visible. Is it ok to want to have a third operation?\",\n",
       "       'I broke my nose about four years ago 8 months ago. I had a Septo-Rhinoplasty for it. However, the results were not what I wanted. It has made my nose fatter and the problem is still there, the bridge of my nose is still deviated, not to mention the lower part of my nose has also become worse. I used to love my nose; is it possible to have it fixed? If yes, what is the procedure called? I live in UK. Could anyone recommend me a good surgeon in my area? I would appreciate any help that I can get.  Thanks!',\n",
       "       'I had a Septoplasty and Rhinoplasty 12 days ago when I pulled out a suture connected to a relatively large body of what looked like dried mucus or perhaps a scab.  At closer inspection, there seems to be a small but noticeable indentation where my septum had this small mass.  Is this something that I should be worried about?'],\n",
       "      dtype=object)"
      ]
     },
     "execution_count": 13,
     "metadata": {},
     "output_type": "execute_result"
    }
   ],
   "source": [
    "df.body.unique()"
   ]
  },
  {
   "cell_type": "code",
   "execution_count": 46,
   "id": "7706da1c",
   "metadata": {},
   "outputs": [],
   "source": [
    "from sklearn.feature_extraction.text import TfidfVectorizer \n",
    "import numpy as np\n",
    "def cluster_questions(text):\n",
    "    vectorizer = TfidfVectorizer(stop_words={'english'})\n",
    "    X = vectorizer.fit_transform(text)\n",
    "    import matplotlib.pyplot as plt\n",
    "    from sklearn.cluster import KMeans\n",
    "    Sum_of_squared_distances = []\n",
    "    K = range(2,10)\n",
    "    for k in K:\n",
    "       km = KMeans(n_clusters=k, max_iter=200, n_init=10)\n",
    "       km = km.fit(X)\n",
    "       Sum_of_squared_distances.append(km.inertia_)\n",
    "    plt.plot(K, Sum_of_squared_distances, 'bx-')\n",
    "    plt.xlabel('k')\n",
    "    plt.ylabel('Sum_of_squared_distances')\n",
    "    plt.title('Elbow Method For Optimal k')\n",
    "    plt.show()\n",
    "\n",
    "    print('How many clusters do you want to use?')\n",
    "    true_k = int(input())\n",
    "    model = KMeans(n_clusters=true_k, init='k-means++', max_iter=200, n_init=10)\n",
    "    model.fit(X)\n",
    "\n",
    "    labels=model.labels_\n",
    "    clusters=pd.DataFrame(list(zip(text,labels)),columns=['title','cluster'])\n",
    "    #print(clusters.sort_values(by=['cluster']))\n",
    "\n",
    "    for i in range(true_k):\n",
    "        print(clusters[clusters['cluster'] == i])\n",
    "    \n",
    "    return clusters"
   ]
  },
  {
   "cell_type": "code",
   "execution_count": 47,
   "id": "c42819ec",
   "metadata": {},
   "outputs": [
    {
     "data": {
      "image/png": "[encoded data removed]",
      "text/plain": [
       "<Figure size 432x288 with 1 Axes>"
      ]
     },
     "metadata": {
      "needs_background": "light"
     },
     "output_type": "display_data"
    },
    {
     "name": "stdout",
     "output_type": "stream",
     "text": [
      "How many clusters do you want to use?\n",
      "6\n",
      "                                                  title  cluster\n",
      "7     I had my surgery over a year ago. 1 month post...        0\n",
      "50    My nurse said theyll be removed in 12 days at ...        0\n",
      "137   Two days post op my doctor removed my splints,...        0\n",
      "166   No pain at all until this morning now I see th...        0\n",
      "191   Hi, My Septoplasty and Turbinate reduction too...        0\n",
      "...                                                 ...      ...\n",
      "2514  \\n\\tHello, I had septoplasty surgery on Friday...        0\n",
      "2540  \\n\\t3 weeks ago I had Septoplasty, I had packi...        0\n",
      "2583  \\n\\tI am still having trouble breathing, after...        0\n",
      "2600  i had septoplasty and turbinate reduction done...        0\n",
      "2627  I had a Septoplasty and Rhinoplasty 12 days ag...        0\n",
      "\n",
      "[219 rows x 2 columns]\n",
      "                                                  title  cluster\n",
      "0     Can a septoplasty fix upper lip asymmetry? The...        1\n",
      "3     I have a very weird congenitally crooked nose....        1\n",
      "11    Would septoplasty fix my deviation? And would ...        1\n",
      "13    I have a deviated septum which makes my nose l...        1\n",
      "15    I'm bothered by the cartilage protruding to my...        1\n",
      "...                                                 ...      ...\n",
      "2608  \\n\\tI don't have any breathing problems, but m...        1\n",
      "2609  \\n\\tI am undergoing a Septoplasty and Turbinat...        1\n",
      "2618  I'm interested in getting a Septoplasty along ...        1\n",
      "2622  I have a deviated septum and it makes it hard ...        1\n",
      "2623  I may have to have a Septoplasty but I also ha...        1\n",
      "\n",
      "[446 rows x 2 columns]\n",
      "                                                  title  cluster\n",
      "9     My ENT wants to do a harsh turbinate reduction...        2\n",
      "10    In july 2021 i make septhoplasty and i got thi...        2\n",
      "18    What is the best technique for MT resection? S...        2\n",
      "30                                                             2\n",
      "32    I hate breathing at night also add the tip dro...        2\n",
      "...                                                 ...      ...\n",
      "2584  Can the persistent throat infections be  resul...        2\n",
      "2585                                                 \\n        2\n",
      "2603  \\n\\tCT scan revealed septal deviation with tur...        2\n",
      "2607  \\n\\tI broke my nose in Aug, in Sept., I had a ...        2\n",
      "2614  \\n\\tUnderwent septoplasty (6 months ago), and ...        2\n",
      "\n",
      "[490 rows x 2 columns]\n",
      "                                                  title  cluster\n",
      "1     I had a septoplasty 3 years ago, it was done u...        3\n",
      "17    I deviated my septum when I was 10. It was nev...        3\n",
      "19    I understand that during septoplasty, the bent...        3\n",
      "22    Hi, I had my septoplacty done 6 months ago. I ...        3\n",
      "27    Its been almost a year since my surgery and I ...        3\n",
      "...                                                 ...      ...\n",
      "2601  \\n\\tSeptoplasty on Tuesday... Is this how my n...        3\n",
      "2611  I had Septoplasty to straighten my nose becaus...        3\n",
      "2621  I have posted a few questions on this site reg...        3\n",
      "2625  I had a Septorhinoplasty to correct a broken n...        3\n",
      "2626  I broke my nose about four years ago 8 months ...        3\n",
      "\n",
      "[388 rows x 2 columns]\n",
      "                                                  title  cluster\n",
      "2     March 10th of 2021 I had Septoplasty with Turb...        4\n",
      "6     First of all, I'm not really sure that a septo...        4\n",
      "8     I have deviated septum which really bothers me...        4\n",
      "12    I have a deviated septum. I am worried my plas...        4\n",
      "14    My left turbinate has been swollen shut since ...        4\n",
      "...                                                 ...      ...\n",
      "2613  \\n\\tSaw an ENT at Kaiser in Panorama City for ...        4\n",
      "2616  \\n\\tHad procedure. Was told I had a collapse, ...        4\n",
      "2617  I'm getting a septoplasty and my turbines or s...        4\n",
      "2619  Injured 10 days ago. Knee to face in Judo clas...        4\n",
      "2624  I had a miscarriage around 8 weeks ago and we ...        4\n",
      "\n",
      "[706 rows x 2 columns]\n",
      "                                                  title  cluster\n",
      "4     i have noticed asymmetry in my nose from the f...        5\n",
      "5     My 16 month old headbutted me last week. I jus...        5\n",
      "21    I have a flat nose with a button tips that I d...        5\n",
      "33    Would I be a good candidate for a Septoplasty?...        5\n",
      "41    My ENT consultant said that I have a deviated ...        5\n",
      "...                                                 ...      ...\n",
      "2597  \\n\\tI broke my nose from a right punch to the ...        5\n",
      "2610  \\n\\tI am getting a Septoplasty in July and my ...        5\n",
      "2612  \\n\\tIs it possible that almost 2 year post sep...        5\n",
      "2615  \\n\\tThe stitches came out of my left nostril 4...        5\n",
      "2620  I had an enlarged turbinate with a deviated se...        5\n",
      "\n",
      "[379 rows x 2 columns]\n"
     ]
    }
   ],
   "source": [
    "clusters = cluster_questions(df.body.fillna(' ').tolist())\n",
    "\n"
   ]
  },
  {
   "cell_type": "code",
   "execution_count": 50,
   "id": "18230862",
   "metadata": {},
   "outputs": [],
   "source": [
    "for cluster in range(0,6):\n",
    "    clusters[clusters['cluster'] == cluster].to_csv(f\"cluster_{cluster}.csv\")"
   ]
  },
  {
   "cell_type": "code",
   "execution_count": 51,
   "id": "be90b340",
   "metadata": {},
   "outputs": [
    {
     "data": {
      "image/png": "[encoded data removed]",
      "text/plain": [
       "<Figure size 432x288 with 1 Axes>"
      ]
     },
     "metadata": {
      "needs_background": "light"
     },
     "output_type": "display_data"
    },
    {
     "name": "stdout",
     "output_type": "stream",
     "text": [
      "How many clusters do you want to use?\n",
      "2\n",
      "                                                  title  cluster\n",
      "6     First of all, I'm not really sure that a septo...        0\n",
      "7     I had my surgery over a year ago. 1 month post...        0\n",
      "9     My ENT wants to do a harsh turbinate reduction...        0\n",
      "10    In july 2021 i make septhoplasty and i got thi...        0\n",
      "11    Would septoplasty fix my deviation? And would ...        0\n",
      "...                                                 ...      ...\n",
      "2616  \\n\\tHad procedure. Was told I had a collapse, ...        0\n",
      "2618  I'm interested in getting a Septoplasty along ...        0\n",
      "2619  Injured 10 days ago. Knee to face in Judo clas...        0\n",
      "2624  I had a miscarriage around 8 weeks ago and we ...        0\n",
      "2627  I had a Septoplasty and Rhinoplasty 12 days ag...        0\n",
      "\n",
      "[1163 rows x 2 columns]\n",
      "                                                  title  cluster\n",
      "0     Can a septoplasty fix upper lip asymmetry? The...        1\n",
      "1     I had a septoplasty 3 years ago, it was done u...        1\n",
      "2     March 10th of 2021 I had Septoplasty with Turb...        1\n",
      "3     I have a very weird congenitally crooked nose....        1\n",
      "4     i have noticed asymmetry in my nose from the f...        1\n",
      "...                                                 ...      ...\n",
      "2621  I have posted a few questions on this site reg...        1\n",
      "2622  I have a deviated septum and it makes it hard ...        1\n",
      "2623  I may have to have a Septoplasty but I also ha...        1\n",
      "2625  I had a Septorhinoplasty to correct a broken n...        1\n",
      "2626  I broke my nose about four years ago 8 months ...        1\n",
      "\n",
      "[1465 rows x 2 columns]\n"
     ]
    }
   ],
   "source": [
    "clusters_2 = cluster_questions(df.body.fillna(' ').tolist())\n"
   ]
  },
  {
   "cell_type": "code",
   "execution_count": null,
   "id": "92ca38d4",
   "metadata": {},
   "outputs": [],
   "source": []
  }
 ],
 "metadata": {
  "kernelspec": {
   "display_name": "Python 3 (ipykernel)",
   "language": "python",
   "name": "python3"
  },
  "language_info": {
   "codemirror_mode": {
    "name": "ipython",
    "version": 3
   },
   "file_extension": ".py",
   "mimetype": "text/x-python",
   "name": "python",
   "nbconvert_exporter": "python",
   "pygments_lexer": "ipython3",
   "version": "3.8.9"
  }
 },
 "nbformat": 4,
 "nbformat_minor": 5
}
